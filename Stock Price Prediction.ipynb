{
 "cells": [
  {
   "cell_type": "code",
   "execution_count": 7,
   "metadata": {},
   "outputs": [
    {
     "name": "stdout",
     "output_type": "stream",
     "text": [
      "^C\n"
     ]
    }
   ],
   "source": [
    "# Example 11.10 Stock Prediction with LSTM\n",
    "# Modified from\n",
    "# https://machinelearningmastery.com/time-series-prediction-lstm\u0002recurrent-neural-networks-python-keras/\n",
    "import numpy\n",
    "import matplotlib.pyplot as plt\n",
    "from pandas import read_csv\n",
    "import math\n",
    "\n",
    "#https://www.tensorflow.org/install\n",
    "# Requires the latest pip\n",
    "!pip install --upgrade pip\n"
   ]
  },
  {
   "cell_type": "code",
   "execution_count": null,
   "metadata": {},
   "outputs": [
    {
     "ename": "",
     "evalue": "",
     "output_type": "error",
     "traceback": [
      "\u001b[1;31mFailed to interrupt the Kernel. \n",
      "Unable to start Kernel 'base (Python 3.8.8)' due to connection timeout. \n",
      "View Jupyter <a href='command:jupyter.viewOutput'>log</a> for further details."
     ]
    }
   ],
   "source": [
    "\n",
    "# Current stable release for CPU and GPU\n",
    "!pip install tensorflow\n",
    "\n",
    "# Or try the preview build (unstable)\n",
    "#pip install tf-nightly\n"
   ]
  },
  {
   "cell_type": "code",
   "execution_count": 5,
   "metadata": {},
   "outputs": [
    {
     "name": "stdout",
     "output_type": "stream",
     "text": [
      "Python 3.8.8\n",
      "pip 21.2.2 from C:\\Users\\LENOVO\\anaconda3\\lib\\site-packages\\pip (python 3.8)\n",
      "\n"
     ]
    }
   ],
   "source": [
    "!python --version\n",
    "!pip --version"
   ]
  },
  {
   "cell_type": "code",
   "execution_count": null,
   "metadata": {},
   "outputs": [],
   "source": [
    "\n",
    "from keras.models import Sequential\n",
    "from keras.layers import Dense\n",
    "from keras.layers import LSTM\n",
    "from sklearn.preprocessing import MinMaxScaler\n",
    "from sklearn.metrics import mean_squared_error\n",
    "\n",
    "\n",
    "def create_dataset(dataset, xback=1):\n",
    " dataX, dataY = [], []\n",
    " for i in range(len(dataset)-xback-1):\n",
    " a = dataset[i:(i+xback), 0]\n",
    " dataX.append(a)\n",
    " dataY.append(dataset[i + xback, 0])\n",
    " return numpy.array(dataX), numpy.array(dataY)\n",
    "\n",
    "\n",
    "def getData(file, col):\n",
    " # load the dataset\n",
    " dataframe = read_csv(file, usecols=[col], engine='python')\n",
    " dataset = dataframe.values\n",
    " dataset = dataset.astype('float32')\n",
    " # normalize the dataset\n",
    " dataset = scaler.fit_transform(dataset)\n",
    " # split into train and test sets\n",
    " train_size = int(len(dataset) * ratio)\n",
    " test_size = len(dataset) - train_size\n",
    " train, test = dataset[0:train_size, :], dataset[train_size:len\n",
    "                                                 (dataset), :]\n",
    " trainX, trainY = create_dataset(train, xback)\n",
    " testX, testY = create_dataset(test, xback)\n",
    " # reshape input to be [samples, time steps, features]\n",
    " trainX = numpy.reshape(trainX, (trainX.shape[0], trainX.shape[1],\n",
    "                                 1))\n",
    " testX = numpy.reshape(testX, (testX.shape[0], testX.shape[1], 1))\n",
    " return trainX, trainY, testX, testY, dataset\n",
    "\n",
    "\n",
    "def train(trainX, trainY, testX, testY):\n",
    " # create and fit the LSTM network\n",
    " model = Sequential()\n",
    " model.add(LSTM(4, input_shape=(xback, 1)))\n",
    " model.add(Dense(1))\n",
    " model.compile(loss='mean_squared_error', optimizer='adam')\n",
    " model.fit(trainX, trainY, epochs=10, batch_size=1, verbose=2)\n",
    " return model\n",
    "\n",
    "\n",
    "def predict(model, trainX, trainY, testX, testY, dataset):\n",
    " # make predictions\n",
    " trainPredict = model.predict(trainX)\n",
    " testPredict = model.predict(testX)\n",
    " # invert predictions\n",
    " trainPredict = scaler.inverse_transform(trainPredict)\n",
    " trainY = scaler.inverse_transform([trainY])\n",
    " testPredict = scaler.inverse_transform(testPredict)\n",
    " testY = scaler.inverse_transform([testY])\n",
    " # calculate root mean squared error\n",
    " trainScore = math.sqrt(mean_squared_error(trainY[0],\n",
    "                                           trainPredict[:, 0]))\n",
    " print('Train Score: %.2f RMSE' % (trainScore))\n",
    " testScore = math.sqrt(mean_squared_error(testY[0],\n",
    "                                          testPredict[:, 0]))\n",
    " print('Test Score: %.2f RMSE' % (testScore))\n",
    " # shift train predictions for plotting\n",
    " trainPredictPlot = numpy.empty_like(dataset)\n",
    " trainPredictPlot[:, :] = numpy.nan\n",
    " trainPredictPlot[xback:len(trainPredict)+xback, :] = trainPredict\n",
    " # shift test predictions for plotting\n",
    " testPredictPlot = numpy.empty_like(dataset)\n",
    " testPredictPlot[:, :] = numpy.nan\n",
    " testPredictPlot[len(trainPredict)+(xback*2)+1:len(dataset)-1, :] = testPredict\n",
    "# plot baseline and predictions\n",
    "plt.plot(scaler.inverse_transform(dataset), 'o', label='origial\n",
    "         data')\n",
    "plt.plot(trainPredictPlot, label='predict train')\n",
    "plt.plot(testPredictPlot, label='predict test')\n",
    "plt.legend()\n",
    "plt.show()\n",
    "# reshape into X=5 and Y=5+1\n",
    "xback = 5\n",
    "#numpy.random.seed(7)\n",
    "scaler = MinMaxScaler(feature_range=(0, 1))\n",
    "ratio = 0.9\n",
    "file = 'AAPL.csv'\n",
    "col = 4\n",
    "trainX, trainY, testX, testY, dataset = getData(file, col)\n",
    "model = train(trainX, trainY, testX, testY)\n",
    "predict(model, trainX, trainY, testX, testY, dataset)\n"
   ]
  }
 ],
 "metadata": {
  "interpreter": {
   "hash": "37eb40c3388cfde35488e2d005b0d69ca91ddeff8a429754d4da636d3f888e5e"
  },
  "kernelspec": {
   "display_name": "Python 3.8.8 ('base')",
   "language": "python",
   "name": "python3"
  },
  "language_info": {
   "codemirror_mode": {
    "name": "ipython",
    "version": 3
   },
   "file_extension": ".py",
   "mimetype": "text/x-python",
   "name": "python",
   "nbconvert_exporter": "python",
   "pygments_lexer": "ipython3",
   "version": "3.8.8"
  },
  "orig_nbformat": 4
 },
 "nbformat": 4,
 "nbformat_minor": 2
}
